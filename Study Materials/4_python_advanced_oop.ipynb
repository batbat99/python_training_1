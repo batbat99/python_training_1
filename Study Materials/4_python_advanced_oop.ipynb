{
 "cells": [
  {
   "cell_type": "markdown",
   "metadata": {},
   "source": [
    "<div style=\"display: flex; align-items: center;\">\n",
    "    <img src=\"../img/es_logo.png\" alt=\"title\" style=\"margin-right: 20px;\">\n",
    "    <h1>Advanced OOP in Python</h1>\n",
    "</div>"
   ]
  },
  {
   "cell_type": "markdown",
   "metadata": {},
   "source": [
    "In the previous notebook, we learned the basics of Object-Oriented Programming (OOP) in Python which included classes, objects, and inheritance. In this notebook, we will learn about some advanced concepts in OOP in Python."
   ]
  },
  {
   "cell_type": "markdown",
   "metadata": {},
   "source": [
    "### Class Methods and Static Methods\n",
    "In Python, we can define class methods and static methods using the `@classmethod` and `@staticmethod` decorators respectively.\n",
    "\n",
    "#### class attributes:\n",
    "- Class attributes are attributes that are set at the class-level, as opposed to the instance-level.\n",
    "> **Note:** Class attributes are shared among all instances of the class, while object/instance attributes are specific to each instance.\n",
    "\n",
    "```python\n",
    "class <class_name>:\n",
    "    <class_attribute> = <value>\n",
    "    def __init__(self):\n",
    "        self.<object_attribute> = <value>\n",
    "```\n",
    "\n",
    "#### class methods and static methods:\n",
    "##### class methods:\n",
    "- Class methods are methods that are bound to the class and not the\n",
    "- They have access to the state of the class as it takes a class parameter that points to the class and not the object instance.\n",
    "- They can modify the class state that would apply across all instances of the class.\n",
    "- A class method takes `cls` as the first implied argument.\n",
    "- You can define a class method using the `@classmethod` decorator.\n",
    "\n",
    "```python\n",
    "class <class_name>:\n",
    "    @classmethod\n",
    "    def <method_name>(cls, <parameters>):\n",
    "        pass\n",
    "```\n",
    "\n",
    "##### static methods:\n",
    "- Static methods are methods that are bound to the class and not the object of the class.\n",
    "- They do not modify the state of the class or the instance.\n",
    "- They are used when a method does not access the instance or class state.\n",
    "- You can define a static method using the `@staticmethod` decorator.\n",
    "\n",
    "```python\n",
    "class <class_name>:\n",
    "    @staticmethod\n",
    "    def <method_name>(<parameters>):\n",
    "        pass\n",
    "```"
   ]
  },
  {
   "cell_type": "code",
   "execution_count": 2,
   "metadata": {},
   "outputs": [
    {
     "name": "stdout",
     "output_type": "stream",
     "text": [
      "Employee Name: Alice, Age: 30, Company: Estarta\n",
      "Employee Name: Bob, Age: 25, Company: Estarta\n",
      "Estarta\n",
      "Employee Name: Alice, Age: 30, Company: Estarta Solutions\n",
      "Employee Name: Bob, Age: 25, Company: Estarta Solutions\n",
      "This company specializes in IT solutions.\n"
     ]
    }
   ],
   "source": [
    "class Employee:\n",
    "    # Class variable\n",
    "    company_name = \"Estarta\"\n",
    "\n",
    "    def __init__(self, name, age):\n",
    "        # Instance variables\n",
    "        self.name = name\n",
    "        self.age = age\n",
    "\n",
    "    # Static method\n",
    "    @staticmethod\n",
    "    def company_info():\n",
    "        return \"This company specializes in IT solutions.\"\n",
    "    \n",
    "    # class method\n",
    "    @classmethod\n",
    "    def change_company_name(cls, new_name):\n",
    "        cls.company_name = new_name\n",
    "\n",
    "    # Instance method\n",
    "    def display(self):\n",
    "        # Accessing instance variables\n",
    "        return f\"Employee Name: {self.name}, Age: {self.age}, Company: {Employee.company_name}\"\n",
    "\n",
    "# Creating instances of the Employee class\n",
    "emp1 = Employee(\"Alice\", 30)\n",
    "emp2 = Employee(\"Bob\", 25)\n",
    "\n",
    "# Accessing instance variables\n",
    "print(emp1.display())  # Output: Employee Name: Alice, Age: 30, Company: Estarta\n",
    "print(emp2.display())  # Output: Employee Name: Bob, Age: 25, Company: Estarta\n",
    "\n",
    "# Accessing class variable\n",
    "print(Employee.company_name)  # Output: Estarta\n",
    "\n",
    "# Changing class variable value\n",
    "Employee.company_name = \"Estarta Solutions\"\n",
    "\n",
    "# Class variable change reflected in all instances\n",
    "print(emp1.display())  # Output: Employee Name: Alice, Age: 30, Company: Estarta Solutions\n",
    "print(emp2.display())  # Output: Employee Name: Bob, Age: 25, Company: Estarta Solutions\n",
    "\n",
    "# Calling static method\n",
    "print(Employee.company_info())  # Output: This company specializes in IT solutions."
   ]
  },
  {
   "cell_type": "markdown",
   "metadata": {},
   "source": [
    "#### Encapsulation\n",
    "Encapsulation is the concept of restricting access to certain parts of an object. In Python, we can restrict access to certain parts of an object by using private or protected attributes and methods. \n",
    "\n",
    "##### Private Attributes and Methods\n",
    "We can define private attributes and methods by prefixing them with a double underscore `__`.\n",
    "\n",
    "##### Protected Attributes and Methods\n",
    "We can define protected attributes and methods by prefixing them with a single underscore `_`.\n",
    "\n",
    "> **Note:** In Python, private attributes and methods are not truly private. They can still be accessed using the name mangling technique.\n",
    "\n",
    "##### Property Decorators\n",
    "In Python, we can define properties using the `@property` decorator. Properties allow us to define a method that can be accessed as an attribute.\n",
    "This is useful when we want to define an interface for accessing a protected or a private attribute."
   ]
  },
  {
   "cell_type": "code",
   "execution_count": 11,
   "metadata": {},
   "outputs": [
    {
     "name": "stdout",
     "output_type": "stream",
     "text": [
      "Alice\n",
      "30\n",
      "Bob\n",
      "25\n",
      "{'_Person__name': 'Bob', '_Person__age': 25}\n"
     ]
    }
   ],
   "source": [
    "# Encapsulation\n",
    "class Person:\n",
    "    def __init__(self, name, age):\n",
    "        self.__name = name\n",
    "        self.__age = age\n",
    "\n",
    "    @property\n",
    "    def name(self):\n",
    "        return self.__name\n",
    "    \n",
    "    @property\n",
    "    def age(self):\n",
    "        return self.__age\n",
    "    \n",
    "    @name.setter\n",
    "    def name(self, name):\n",
    "        self.__name = name\n",
    "\n",
    "    @age.setter\n",
    "    def age(self, age):\n",
    "        self.__age = age\n",
    "\n",
    "# Creating an instance of the Person class\n",
    "person = Person(\"Alice\", 30)\n",
    "\n",
    "# Accessing instance variables\n",
    "print(person.name)  # Output: Alice\n",
    "print(person.age)  # Output: 30\n",
    "\n",
    "# Changing instance variables\n",
    "person.name = \"Bob\"\n",
    "person.age = 25\n",
    "\n",
    "print(person.name)  # Output: Bob\n",
    "print(person.age)  # Output: 25"
   ]
  },
  {
   "cell_type": "markdown",
   "metadata": {},
   "source": [
    "### Abstract Classes and Methods\n",
    "Abstract classes are classes that cannot be instantiated and are meant to serve as blueprints for other classes. Abstract methods are methods declared in an abstract class but have no implementation in the abstract class itself. Subclasses of the abstract class are required to provide concrete implementations for these abstract methods.\n",
    "\n",
    "> **Absraction is a way to hide the implementation details and show only the functionality to the user.**"
   ]
  },
  {
   "cell_type": "code",
   "execution_count": null,
   "metadata": {},
   "outputs": [],
   "source": [
    "from abc import ABC, abstractmethod\n",
    "\n",
    "class Shape(ABC):\n",
    "    @abstractmethod\n",
    "    def area(self):\n",
    "        pass\n",
    "\n",
    "    @abstractmethod\n",
    "    def perimeter(self):\n",
    "        pass\n",
    "\n",
    "class Circle(Shape):\n",
    "    def __init__(self, radius):\n",
    "        self.radius = radius\n",
    "\n",
    "    # Implementing the abstract method\n",
    "    def area(self):\n",
    "        return 3.14 * self.radius * self.radius\n",
    "    \n",
    "    # Implementing the abstract method\n",
    "    def perimeter(self):\n",
    "        return 2 * 3.14 * self.radius"
   ]
  },
  {
   "cell_type": "markdown",
   "metadata": {},
   "source": [
    "#### Multiple Inheritance\n",
    "Multiple Inheritance is a concept in Object-Oriented Programming (OOP) where a class can inherit attributes and methods from more than one superclass. In Python, you can create a class that inherits from multiple superclasses, and Python uses a method resolution order (MRO) to determine the order in which methods are called when there are conflicts between inherited methods."
   ]
  },
  {
   "cell_type": "code",
   "execution_count": null,
   "metadata": {},
   "outputs": [],
   "source": [
    "class A:\n",
    "    def method(self):\n",
    "        print(\"Method from class A\")\n",
    "        \n",
    "    def method_a(self):\n",
    "        print(\"Method A\")\n",
    "\n",
    "class B:\n",
    "    def method(self):\n",
    "        print(\"Method from class B\")\n",
    "\n",
    "    def method_b(self):\n",
    "        print(\"Method B\")\n",
    "\n",
    "class C(A, B):\n",
    "    pass\n",
    "\n",
    "obj = C()\n",
    "obj.method()  # Output: Method from class A\n",
    "obj.method_a()  # Output: Method A\n",
    "obj.method_b()  # Output: Method B"
   ]
  },
  {
   "cell_type": "markdown",
   "metadata": {},
   "source": [
    "#### Method Chainning\n",
    "Method Chaining is a technique that allows you to call multiple methods on an object consecutively in a single line of code. It's achieved by having each method return the object itself (self), enabling the chaining of method calls."
   ]
  },
  {
   "cell_type": "code",
   "execution_count": null,
   "metadata": {},
   "outputs": [],
   "source": [
    "class Calculator:\n",
    "    def __init__(self, value=0):\n",
    "        self.value = value\n",
    "\n",
    "    def add(self, x):\n",
    "        self.value += x\n",
    "        return self  # Return self to support method chaining\n",
    "\n",
    "    def subtract(self, x):\n",
    "        self.value -= x\n",
    "        return self\n",
    "\n",
    "calc = Calculator(10)\n",
    "result = calc.add(5).subtract(3).add(7).value\n",
    "print(result)  # Output: 19"
   ]
  }
 ],
 "metadata": {
  "kernelspec": {
   "display_name": "Python 3",
   "language": "python",
   "name": "python3"
  },
  "language_info": {
   "codemirror_mode": {
    "name": "ipython",
    "version": 3
   },
   "file_extension": ".py",
   "mimetype": "text/x-python",
   "name": "python",
   "nbconvert_exporter": "python",
   "pygments_lexer": "ipython3",
   "version": "3.11.3"
  }
 },
 "nbformat": 4,
 "nbformat_minor": 2
}
