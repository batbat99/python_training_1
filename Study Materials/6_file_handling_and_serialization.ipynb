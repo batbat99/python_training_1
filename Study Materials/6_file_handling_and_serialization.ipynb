{
 "cells": [
  {
   "cell_type": "markdown",
   "metadata": {},
   "source": [
    "<div style=\"display: flex; align-items: center;\">\n",
    "    <img src=\"../img/es_logo.png\" alt=\"title\" style=\"margin-right: 20px;\">\n",
    "    <h1>File Handling and Serialization</h1>\n",
    "</div>"
   ]
  },
  {
   "cell_type": "markdown",
   "metadata": {},
   "source": [
    "### Persistence\n",
    "Persistence in the context of programming often refers to the process of storing and retrieving data from various data sources, such as databases, files, or external APIs. Here, I'll provide some materials and explanations for dealing with data persistence in Python."
   ]
  },
  {
   "cell_type": "markdown",
   "metadata": {},
   "source": [
    "### File Handling:\n",
    "File handling is the basic form of data persistence where you can read from and write to files. Python provides built-in functions for working with files."
   ]
  },
  {
   "cell_type": "code",
   "execution_count": 7,
   "metadata": {},
   "outputs": [
    {
     "name": "stdout",
     "output_type": "stream",
     "text": [
      "Hello\n",
      "this is text from a test file\n",
      "line 3\n",
      "line 4\n"
     ]
    }
   ],
   "source": [
    "# openning a file\n",
    "f = open('other_resources/test.txt', 'r')\n",
    "\n",
    "# reading the file\n",
    "print(f.read())\n",
    "\n",
    "# closing the file\n",
    "f.close()"
   ]
  },
  {
   "cell_type": "markdown",
   "metadata": {},
   "source": [
    "### File Modes:\n",
    "Some of the most common file modes are:\n",
    "- `r`: Opens a file for reading. (default)\n",
    "- `w`: Opens a file for writing. Creates a new file if it does not exist or truncates the file if it exists.\n",
    "- `a`: Opens a file for appending. Creates a new file if it does not exist.\n",
    "- `x`: Creates a new file. Returns an error if the file exists.\n",
    "- `r+`: Opens a file for reading and writing.\n",
    "- `w+`: Opens a file for writing and reading. Creates a new file if it does not exist or truncates the file if it exists."
   ]
  },
  {
   "cell_type": "code",
   "execution_count": null,
   "metadata": {},
   "outputs": [],
   "source": []
  },
  {
   "cell_type": "markdown",
   "metadata": {},
   "source": [
    "### Resources management:\n",
    "When working with files, it is important to close the file after you are done with it. You can use the `close()` method to close the file. Alternatively, you can use the `with` statement to automatically close the file when you are done with it."
   ]
  },
  {
   "cell_type": "code",
   "execution_count": 14,
   "metadata": {},
   "outputs": [
    {
     "name": "stdout",
     "output_type": "stream",
     "text": [
      "Hello\n",
      "this is text from a test file\n",
      "line 3\n",
      "line 4\n"
     ]
    }
   ],
   "source": [
    "with open('other_resources/test.txt', 'r') as f:\n",
    "    print(f.read())"
   ]
  },
  {
   "cell_type": "markdown",
   "metadata": {},
   "source": [
    "### Reading and Writing CSV Files:\n",
    "CSV (Comma Separated Values) files are a common way to store tabular data. Python provides a built-in `csv` module for reading and writing CSV files."
   ]
  },
  {
   "cell_type": "code",
   "execution_count": 15,
   "metadata": {},
   "outputs": [
    {
     "name": "stdout",
     "output_type": "stream",
     "text": [
      "['Name', 'Age']\n",
      "['Ahmad', '21']\n",
      "['Ali', '22']\n",
      "['Sara', '23']\n"
     ]
    }
   ],
   "source": [
    "import csv\n",
    "\n",
    "# data to be written row-wise in a csv file\n",
    "data = [['Name', 'Age'], ['Ahmad', 21], ['Ali', 22], ['Sara', 23]]\n",
    "\n",
    "# opening the csv file in write mode\n",
    "with open('other_resources/data.csv', 'w', newline='') as file:\n",
    "    writer = csv.writer(file)\n",
    "\n",
    "    # writing the data row-wise into the csv file\n",
    "    writer.writerows(data)\n",
    "\n",
    "# opening the csv file in read mode\n",
    "with open('other_resources/data.csv', 'r') as file:\n",
    "    reader = csv.reader(file)\n",
    "\n",
    "    # reading the data from the csv file\n",
    "    for row in reader:\n",
    "        print(row)"
   ]
  },
  {
   "cell_type": "markdown",
   "metadata": {},
   "source": [
    "### Serialization and Deserialization:\n",
    "Serialization is the process of converting an object into a format that can be stored or transmitted. Deserialization is the process of converting the serialized data back into an object. Python provides built-in modules like `pickle` and `json` for serialization and deserialization."
   ]
  },
  {
   "cell_type": "code",
   "execution_count": 18,
   "metadata": {},
   "outputs": [
    {
     "name": "stdout",
     "output_type": "stream",
     "text": [
      "{'Name': 'Ahmad', 'Age': 21, 'City': 'Amman'}\n",
      "Ahmad\n",
      "21\n"
     ]
    }
   ],
   "source": [
    "import json\n",
    "\n",
    "# data to be written in a json file\n",
    "data = {\n",
    "    \"Name\": \"Ahmad\",\n",
    "    \"Age\": 21,\n",
    "    \"City\": \"Amman\"\n",
    "}\n",
    "\n",
    "# opening the json file in write mode\n",
    "with open('other_resources/data.json', 'w') as file:\n",
    "    json.dump(data, file)\n",
    "\n",
    "# opening the json file in read mode\n",
    "with open('other_resources/data.json', 'r') as file:\n",
    "    data = json.load(file)\n",
    "    print(data)"
   ]
  },
  {
   "cell_type": "markdown",
   "metadata": {},
   "source": [
    "### Serialization with Pickle:\n",
    "Pickle is a module in Python that allows you to serialize and deserialize Python objects. You can use the `pickle.dump()` method to serialize an object to a file and the `pickle.load()` method to deserialize an object from a file."
   ]
  },
  {
   "cell_type": "code",
   "execution_count": 19,
   "metadata": {},
   "outputs": [
    {
     "name": "stdout",
     "output_type": "stream",
     "text": [
      "Ahmad\n",
      "21\n"
     ]
    }
   ],
   "source": [
    "import pickle\n",
    "\n",
    "class Person:\n",
    "    def __init__(self, name, age):\n",
    "        self.name = name\n",
    "        self.age = age\n",
    "\n",
    "# creating an object of the Person class\n",
    "person = Person('Ahmad', 21)\n",
    "\n",
    "# opening the pickle file in write mode\n",
    "with open('other_resources/data.pkl', 'wb') as file:\n",
    "    # writing the object to the pickle file\n",
    "    pickle.dump(person, file)\n",
    "\n",
    "# opening the pickle file in read mode\n",
    "with open('other_resources/data.pkl', 'rb') as file:\n",
    "    # reading the object from the pickle file\n",
    "    person = pickle.load(file)\n",
    "    print(person.name)\n",
    "    print(person.age)"
   ]
  }
 ],
 "metadata": {
  "kernelspec": {
   "display_name": "Python 3",
   "language": "python",
   "name": "python3"
  },
  "language_info": {
   "codemirror_mode": {
    "name": "ipython",
    "version": 3
   },
   "file_extension": ".py",
   "mimetype": "text/x-python",
   "name": "python",
   "nbconvert_exporter": "python",
   "pygments_lexer": "ipython3",
   "version": "3.11.3"
  }
 },
 "nbformat": 4,
 "nbformat_minor": 2
}
