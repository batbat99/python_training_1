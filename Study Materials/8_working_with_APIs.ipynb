{
 "cells": [
  {
   "cell_type": "markdown",
   "metadata": {},
   "source": [
    "<div style=\"display: flex; align-items: center;\">\n",
    "    <img src=\"../img/es_logo.png\" alt=\"title\" style=\"margin-right: 20px;\">\n",
    "    <h1>Working with APIs</h1>\n",
    "</div>"
   ]
  },
  {
   "cell_type": "markdown",
   "metadata": {},
   "source": [
    "APIs (Application Programming Interfaces) allow different software applications to communicate with each other. They are used to define the methods for requesting and managing data from a server.\n",
    "\n",
    "APIs are used to access data from different sources, such as social media platforms, weather services, and financial data providers. The Data is accessed using HTTP requests, and the response could be in different formats, such as JSON, XML, or HTML.\n",
    "\n",
    "The most commonly used request types are:\n",
    "- GET: retrieves data from the server.\n",
    "- POST: sends data to the server."
   ]
  },
  {
   "cell_type": "markdown",
   "metadata": {},
   "source": [
    "#### Managing API Keys\n",
    "Some APIs require an API key to access the data. The API key is a unique identifier that is used to authenticate the user. It is important to keep the API key secure and not share it with others.\n",
    "\n",
    "The API key should never be hardcoded within your application. Instead, it should be stored in a separate file and read from there."
   ]
  },
  {
   "cell_type": "code",
   "execution_count": 1,
   "metadata": {},
   "outputs": [],
   "source": [
    "import requests\n",
    "from dotenv import load_dotenv, dotenv_values \n",
    "\n",
    "load_dotenv()\n",
    "config = dotenv_values(\"other_resources/.env\")\n",
    "api_key = config[\"API_KEY\"]"
   ]
  },
  {
   "cell_type": "code",
   "execution_count": 2,
   "metadata": {},
   "outputs": [
    {
     "data": {
      "text/plain": [
       "'d4364de31626b126eb077cccb799e406'"
      ]
     },
     "execution_count": 2,
     "metadata": {},
     "output_type": "execute_result"
    }
   ],
   "source": [
    "api_key"
   ]
  },
  {
   "cell_type": "markdown",
   "metadata": {},
   "source": [
    "You can find the documentation for the Weather API [here](https://openweathermap.org/current)."
   ]
  },
  {
   "cell_type": "markdown",
   "metadata": {},
   "source": [
    "When using a GET request, the required parameters are passed in the URL. For example, to get the current weather in London, you can use the following URL:\n",
    "```python\n",
    "url = \"http://api.openweathermap.org/data/2.5/weather?q=London&appid=YOUR_API_KEY\"\n",
    "```"
   ]
  },
  {
   "cell_type": "code",
   "execution_count": 5,
   "metadata": {},
   "outputs": [
    {
     "name": "stdout",
     "output_type": "stream",
     "text": [
      "22.05\n"
     ]
    }
   ],
   "source": [
    "city = \"Amman\"\n",
    "url = f\"http://api.openweathermap.org/data/2.5/weather?q={city}&appid={api_key}&units=metric\"\n",
    "response = requests.get(url)\n",
    "data = response.json()\n",
    "print(data[\"main\"][\"temp\"]) "
   ]
  },
  {
   "cell_type": "markdown",
   "metadata": {},
   "source": [
    "When using a POST request, the required parameters are passed in the body of the request. For example, assume that you have an API with an endpoint that creates a person with name and age parameters\n",
    "\n",
    "```python\n",
    "url = \"http://api.example.com/person\"\n",
    "\n",
    "data = {\n",
    "    \"name\": \"John\",\n",
    "    \"age\": 30\n",
    "}\n",
    "\n",
    "response = requests.post(url, data=data)\n",
    "```"
   ]
  },
  {
   "cell_type": "markdown",
   "metadata": {},
   "source": [
    "Since the weather API doesn't support POST requests we will be using a mock API to demonstrate how to use POST requests."
   ]
  },
  {
   "cell_type": "code",
   "execution_count": 17,
   "metadata": {},
   "outputs": [
    {
     "name": "stdout",
     "output_type": "stream",
     "text": [
      "{'title': 'foo', 'body': 'bar', 'userId': 1, 'id': 101}\n"
     ]
    }
   ],
   "source": [
    "url = \"https://jsonplaceholder.typicode.com/posts\"\n",
    "\n",
    "data = {\n",
    "    \"title\": \"foo\",\n",
    "    \"body\": \"bar\",\n",
    "    \"userId\": 1\n",
    "}\n",
    "\n",
    "headers = {\n",
    "    \"Content-Type\": \"application/json; charset=UTF-8\"\n",
    "}\n",
    "\n",
    "response = requests.post(url, json=data, headers=headers)\n",
    "print(response.json())"
   ]
  },
  {
   "cell_type": "markdown",
   "metadata": {},
   "source": [
    "Request headers can be used to provide additional information to the server, such as the content type of the request. For example, to send a JSON request, you can set the content type to application/json.\n",
    "\n",
    "It can also be used to authenticate the user by passing the API key in the header."
   ]
  }
 ],
 "metadata": {
  "kernelspec": {
   "display_name": "Python 3",
   "language": "python",
   "name": "python3"
  },
  "language_info": {
   "codemirror_mode": {
    "name": "ipython",
    "version": 3
   },
   "file_extension": ".py",
   "mimetype": "text/x-python",
   "name": "python",
   "nbconvert_exporter": "python",
   "pygments_lexer": "ipython3",
   "version": "3.11.3"
  }
 },
 "nbformat": 4,
 "nbformat_minor": 2
}
