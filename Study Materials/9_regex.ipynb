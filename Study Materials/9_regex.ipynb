{
 "cells": [
  {
   "cell_type": "markdown",
   "metadata": {},
   "source": [
    "<div style=\"display: flex; align-items: center;\">\n",
    "    <img src=\"../img/es_logo.png\" alt=\"title\" style=\"margin-right: 20px;\">\n",
    "    <h1>Regex in Python</h1>\n",
    "</div>"
   ]
  },
  {
   "cell_type": "markdown",
   "metadata": {},
   "source": [
    "Regex is a powerful tool for working with strings. It allows you to search for patterns in text and extract the information you need. In Python, the `re` module provides support for working with regular expressions."
   ]
  },
  {
   "cell_type": "markdown",
   "metadata": {},
   "source": [
    "### Why use regex?\n",
    "\n",
    "- **Pattern matching**: You can search for specific patterns in text, such as phone numbers, email addresses, or URLs.\n",
    "- **Data extraction**: You can extract specific information from text, such as dates, numbers, or names.\n",
    "- **Data validation**: You can validate user input to ensure it matches a specific format or pattern.\n",
    "- **Replacing text**: You can replace specific patterns in text with other patterns.\n",
    "\n",
    "#### Basic syntax\n",
    "\n",
    "1. **literal characters**: `a`, `b`, `c`, etc. match themselves.\n",
    "2. **metacharacters**: `.` (dot), `^`, `$`, `*`, `+`, `?`, `{}`, `[]`, `()`, etc. have special meanings.\n",
    "3. **character classes**: `\\d`, `\\w`, `\\s`, etc. match digits, word characters, whitespace, etc.\n",
    "4. **quantifiers**: `*`, `+`, `?`, `{}`, etc. match zero or more, one or more, zero or one, or a specific number of times.\n",
    "5. **anchors**: `^`, `$`, `\\b`, etc. match the start or end of a string, or a word boundary.\n",
    "6. **groups**: `()`, groups multiple tokens together to create a subpattern.\n"
   ]
  },
  {
   "cell_type": "code",
   "execution_count": 14,
   "metadata": {},
   "outputs": [
    {
     "name": "stdout",
     "output_type": "stream",
     "text": [
      "abc\n"
     ]
    }
   ],
   "source": [
    "# regex literal\n",
    "import re\n",
    "\n",
    "s = r\"abc 123 def 456\"\n",
    "\n",
    "# match: this will match the first occurence of the pattern\n",
    "m = re.search(r\"abc\", s)\n",
    "print(m.group(0))\n"
   ]
  },
  {
   "cell_type": "markdown",
   "metadata": {},
   "source": [
    "#### Regex character classes\n",
    "\n",
    "- `\\d`: Matches any digit (0-9).\n",
    "- `\\D`: Matches any non-digit.\n",
    "- `\\w`: Matches any word character (alphanumeric + underscore).\n",
    "- `\\W`: Matches any non-word character.\n",
    "- `\\s`: Matches any whitespace character (space, tab, newline).\n",
    "- `\\S`: Matches any non-whitespace character.\n",
    "- `.`: Matches any character except newline.\n",
    "- `[abc]`: Matches any character `a`, `b`, or `c`.\n",
    "- `[^abc]`: Matches any character except `a`, `b`, or `c`.\n",
    "- `[a-z]`: Matches any lowercase letter.\n",
    "- `[A-Z]`: Matches any uppercase letter.\n",
    "- `[0-9]`: Matches any digit.\n",
    "- `[a-zA-Z0-9]`: Matches any alphanumeric character."
   ]
  },
  {
   "cell_type": "code",
   "execution_count": 28,
   "metadata": {},
   "outputs": [
    {
     "name": "stdout",
     "output_type": "stream",
     "text": [
      "123\n",
      "456\n",
      "------------------\n",
      "some text\n",
      "abc \n",
      " @ def \n",
      "\n",
      "more text\n",
      "------------------\n",
      "some\n",
      "text\n",
      "abc\n",
      "def\n",
      "more\n",
      "text\n"
     ]
    }
   ],
   "source": [
    "s = \"\"\"some text\n",
    "abc 123 @ def 456\n",
    "more text\"\"\"\n",
    "\n",
    "r = r\"\\d+\"\n",
    "m = re.findall(r, s)\n",
    "for match in m:\n",
    "    print(match)\n",
    "\n",
    "print(\"------------------\")\n",
    "\n",
    "r = r\"\\D+\"\n",
    "m = re.findall(r, s)\n",
    "for match in m:\n",
    "    print(match)\n",
    "\n",
    "print(\"------------------\")\n",
    "\n",
    "r = r\"[a-zA-Z]+\"\n",
    "m = re.findall(r, s)\n",
    "for match in m:\n",
    "    print(match)"
   ]
  },
  {
   "cell_type": "markdown",
   "metadata": {},
   "source": [
    "### Meta characters\n",
    "\n",
    "- `.`: Matches any character except newline.\n",
    "- `|`: Matches either the expression before or after it.\n",
    "\n",
    "\n",
    "#### Quantifiers\n",
    "\n",
    "- `*`: Matches zero or more occurrences of the preceding character.\n",
    "- `+`: Matches one or more occurrences of the preceding character.\n",
    "- `?`: Matches zero or one occurrence of the preceding character.\n",
    "- `{n}`: Matches exactly `n` occurrences of the preceding character.\n",
    "- `{n,}`: Matches `n` or more occurrences of the preceding character.\n",
    "- `{n,m}`: Matches between `n` and `m` occurrences of the preceding character.\n",
    "\n",
    "#### Anchors\n",
    "\n",
    "- `^`: Matches the start of a string.\n",
    "- `$`: Matches the end of a string.\n",
    "- `\\b`: Matches a word boundary.\n",
    "- `\\B`: Matches a non-word boundary."
   ]
  },
  {
   "cell_type": "code",
   "execution_count": 52,
   "metadata": {},
   "outputs": [
    {
     "name": "stdout",
     "output_type": "stream",
     "text": [
      "A long string with some numbers like 1234567890 and some special characters like !@#$%^&*()\n",
      "and some spaces                       \n",
      "and some new lines\n",
      "and some tabs       \n",
      "and some more text\n",
      "------------------\n",
      "long string\n",
      "1234567890\n",
      "specia\n",
      "------------------\n",
      " text\n",
      "------------------\n",
      " long \n",
      " with \n",
      " numbers \n",
      " 1234567890 \n",
      " some \n",
      " characters \n",
      "\n",
      "and \n",
      " spaces                       \n",
      "\n",
      " some \n",
      " lines\n",
      "\n",
      "\n",
      "\n",
      " some \n",
      "       \n",
      "\n",
      "and \n",
      " more \n"
     ]
    }
   ],
   "source": [
    "s = \"\"\"A long string with some numbers like 1234567890 and some special characters like !@#$%^&*()\n",
    "and some spaces                       \n",
    "and some new lines\n",
    "\n",
    "\n",
    "and some tabs       \n",
    "\n",
    "and some more text\"\"\"\n",
    "\n",
    "r = r\".+\"\n",
    "m = re.findall(r, s)\n",
    "for match in m:\n",
    "    print(match)\n",
    "\n",
    "print(\"------------------\")\n",
    "\n",
    "r = r\"long string|\\d+|spec..\\B\"\n",
    "m = re.findall(r, s)\n",
    "for match in m:\n",
    "    print(match)\n",
    "\n",
    "print(\"------------------\")\n",
    "\n",
    "r = r\"\\s+[a-zA-Z0-9]+$\"\n",
    "m = re.findall(r, s)\n",
    "for match in m:\n",
    "    print(match)\n",
    "\n",
    "print(\"------------------\")\n",
    "\n",
    "r = r\"\\s+[a-zA-Z0-9]+\\s+\"\n",
    "m = re.findall(r, s)\n",
    "for match in m:\n",
    "    print(match)"
   ]
  },
  {
   "cell_type": "markdown",
   "metadata": {},
   "source": [
    "### Regex functions in Python\n",
    "\n",
    "- `re.match()`: Matches the pattern at the beginning of the string.\n",
    "- `re.search()`: Searches for the pattern anywhere in the string.\n",
    "- `re.findall()`: Finds all occurrences of the pattern in the string.\n",
    "- `re.split()`: Splits the string based on the pattern.\n",
    "- `re.sub()`: Replaces the pattern with a new string."
   ]
  },
  {
   "cell_type": "code",
   "execution_count": 62,
   "metadata": {},
   "outputs": [
    {
     "name": "stdout",
     "output_type": "stream",
     "text": [
      "<re.Match object; span=(0, 1), match='A'>\n",
      "None\n",
      "long\n",
      "['long']\n",
      "['A', 'long', 'string', 'with', 'some', 'numbers', 'like', '1234567890', 'and', 'some', 'special', 'characters', 'like', '!@#$%^&*()', 'and', 'some', 'spaces', 'and', 'some', 'new', 'lines', 'and', 'some', 'tabs', 'and', 'some', 'more', 'text']\n",
      "A long string with some numbers like 1234567890 and some special characters like !@#$%^&*() and some spaces and some new lines and some tabs and some more text\n"
     ]
    }
   ],
   "source": [
    "# match: this will match the pattern from the beginning of the string\n",
    "m = re.match(r\"A\", s)\n",
    "print(m)\n",
    "m = re.match(r\"long\", s)\n",
    "print(m)\n",
    "\n",
    "# search: this will match the first occurence of the pattern\n",
    "m = re.search(r\"long\", s)\n",
    "print(m.group(0))\n",
    "\n",
    "# findall: this will return all the occurences of the pattern\n",
    "m = re.findall(r\"long\", s)\n",
    "print(m)\n",
    "\n",
    "# split: this will split the string based on the pattern\n",
    "m = re.split(r\"\\s+\", s)\n",
    "print(m)\n",
    "\n",
    "# sub: this will substitute the pattern with the given string\n",
    "m = re.sub(r\"\\s+\", \" \", s)\n",
    "print(m)"
   ]
  },
  {
   "cell_type": "markdown",
   "metadata": {},
   "source": [
    "### Validation\n",
    "\n",
    "regex can be used to validate user input, such as email addresses, phone numbers, or URLs. For example, to validate an email address etc."
   ]
  },
  {
   "cell_type": "code",
   "execution_count": 71,
   "metadata": {},
   "outputs": [
    {
     "name": "stdout",
     "output_type": "stream",
     "text": [
      "True\n",
      "True\n",
      "True\n"
     ]
    }
   ],
   "source": [
    "# validation example\n",
    "\n",
    "def validate_phone_number(phone_number):\n",
    "    r = r\"^(\\+9627|009627|07)[7-9](\\d{7}|-\\d{3}-\\d{4})$\"\n",
    "\n",
    "    m = re.match(r, phone_number)\n",
    "    if m:\n",
    "        return True\n",
    "    else:\n",
    "        return False\n",
    "    \n",
    "phone_number = \"0791234567\"\n",
    "print(validate_phone_number(phone_number))\n",
    "\n",
    "phone_number = \"079-123-4567\"\n",
    "print(validate_phone_number(phone_number))\n",
    "\n",
    "phone_number = \"+962791234567\"\n",
    "print(validate_phone_number(phone_number))\n",
    "    "
   ]
  },
  {
   "cell_type": "markdown",
   "metadata": {},
   "source": [
    "A very useful tool to create and test regex patterns interactively is [regexer](https://regexr.com/)."
   ]
  }
 ],
 "metadata": {
  "kernelspec": {
   "display_name": "Python 3",
   "language": "python",
   "name": "python3"
  },
  "language_info": {
   "codemirror_mode": {
    "name": "ipython",
    "version": 3
   },
   "file_extension": ".py",
   "mimetype": "text/x-python",
   "name": "python",
   "nbconvert_exporter": "python",
   "pygments_lexer": "ipython3",
   "version": "3.11.3"
  }
 },
 "nbformat": 4,
 "nbformat_minor": 2
}
