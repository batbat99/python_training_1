{
 "cells": [
  {
   "cell_type": "markdown",
   "metadata": {},
   "source": [
    "<div style=\"display: flex; align-items: center;\">\n",
    "    <img src=\"../img/es_logo.png\" alt=\"title\" style=\"margin-right: 20px;\">\n",
    "    <h1>Python Functions and Modules</h1>\n",
    "</div>"
   ]
  },
  {
   "cell_type": "markdown",
   "metadata": {},
   "source": [
    "### Python Functions\n",
    "\n",
    "A function is a block of code that only runs when it is called. You can pass data, known as parameters, into a function. A function can return data as a result. They are essential for organizing code, promoting reusability, and improving code readability."
   ]
  },
  {
   "cell_type": "code",
   "execution_count": 1,
   "metadata": {},
   "outputs": [
    {
     "name": "stdout",
     "output_type": "stream",
     "text": [
      "Hello, Rula!\n",
      "Hello, Ahmad!\n",
      "Hello, Omar!\n"
     ]
    }
   ],
   "source": [
    "def greet(name):\n",
    "    \"\"\"This function greets the person passed in as a parameter.\n",
    "    parameters:\n",
    "        name -> str\n",
    "    returns:\n",
    "        None\"\"\"\n",
    "    print(f\"Hello, {name}!\")\n",
    "\n",
    "# Calling the function\n",
    "greet(\"Rula\")\n",
    "greet(\"Ahmad\")\n",
    "greet(\"Omar\")"
   ]
  },
  {
   "cell_type": "markdown",
   "metadata": {},
   "source": [
    "#### Default Parameters\n",
    "You can assign default values to parameters, making them optional when calling the function."
   ]
  },
  {
   "cell_type": "code",
   "execution_count": 2,
   "metadata": {},
   "outputs": [
    {
     "name": "stdout",
     "output_type": "stream",
     "text": [
      "Hello, Guest!\n",
      "Hello, Alice!\n",
      "Hello, Mr Faisal!\n"
     ]
    }
   ],
   "source": [
    "def greet(name=\"Guest\", title=None):\n",
    "    \"\"\"This function greets the person (or Guest if no name is provided).\"\"\"\n",
    "    if title is not None:\n",
    "        print(f\"Hello, {title} {name}!\")\n",
    "    else:\n",
    "        print(f\"Hello, {name}!\")\n",
    "\n",
    "greet()          # Output: Hello, Guest!\n",
    "greet(\"Alice\")   # Output: Hello, Alice!\n",
    "greet(\"Faisal\", title=\"Mr\")"
   ]
  },
  {
   "cell_type": "markdown",
   "metadata": {},
   "source": [
    "#### Variable Scope\n",
    "Variables declared inside a function are typically local to that function, meaning they are only accessible within the function."
   ]
  },
  {
   "cell_type": "code",
   "execution_count": 3,
   "metadata": {},
   "outputs": [
    {
     "name": "stdout",
     "output_type": "stream",
     "text": [
      "10\n"
     ]
    }
   ],
   "source": [
    "def my_function():\n",
    "    y = x = 1\n",
    "    x = 10  # Local variable\n",
    "    print(x)\n",
    "\n",
    "my_function()\n",
    "#print(x)  # This will raise an error because 'x' is not defined outside the function."
   ]
  },
  {
   "cell_type": "markdown",
   "metadata": {},
   "source": [
    "#### Docstrings\n",
    "Docstrings are used to document functions, providing information about their purpose and usage. They are placed within triple quotes at the beginning of a function."
   ]
  },
  {
   "cell_type": "code",
   "execution_count": 4,
   "metadata": {},
   "outputs": [],
   "source": [
    "def multiply(a, b):\n",
    "    \"\"\"\n",
    "    This function multiplies two numbers.\n",
    "    \n",
    "    Parameters:\n",
    "    a (int): The first number.\n",
    "    b (int): The second number.\n",
    "    \n",
    "    Returns:\n",
    "    int: The product of 'a' and 'b'.\n",
    "    \"\"\"\n",
    "    return a * b\n",
    "\n",
    "#x, a, b = multiply(2,4)\n",
    "#print(x,a,b)\n",
    "x = multiply(2,4)\n",
    "#print(a)\n",
    "\n",
    "\n",
    "#my_list = [1,4,8,3]\n",
    "#x,y,z,l = my_list\n",
    "#print(x,y,z,l)"
   ]
  },
  {
   "cell_type": "markdown",
   "metadata": {},
   "source": [
    "#### Arbitrary Arguments (*args)\n",
    "In Python, you can define functions that accept a variable number of positional arguments using the *args syntax. This allows you to pass any number of arguments to the function."
   ]
  },
  {
   "cell_type": "code",
   "execution_count": 5,
   "metadata": {},
   "outputs": [
    {
     "name": "stdout",
     "output_type": "stream",
     "text": [
      "('hello', [1, 2, 3, 4], 1, 2, 3)\n",
      "hello [1, 2, 3, 4] 1 2 3 "
     ]
    }
   ],
   "source": [
    "def my_function(*args):\n",
    "    print(args)\n",
    "    for arg in args:\n",
    "        print(arg, end=\" \")\n",
    "\n",
    "my_function(\"hello\",[1,2,3,4],1,2,3)"
   ]
  },
  {
   "cell_type": "markdown",
   "metadata": {},
   "source": [
    "#### Keyword Arguments\n",
    "Keyword arguments allow you to pass values to a function using parameter names. This makes your function calls more explicit and self-documenting."
   ]
  },
  {
   "cell_type": "code",
   "execution_count": 6,
   "metadata": {},
   "outputs": [
    {
     "name": "stdout",
     "output_type": "stream",
     "text": [
      "Hello, Alice! Hello. You are 21 years old\n"
     ]
    }
   ],
   "source": [
    "def greet(name, message=\"Hello\", age=18):\n",
    "    print(f\"Hello, {name}! {message}. You are {age} years old\")\n",
    "\n",
    "#greet(name=\"Alice\", message=\"How are you?\", age=25)\n",
    "#greet(\"Bob\",age=31, message=\"Hello\")\n",
    "greet(\"Alice\",age=21)"
   ]
  },
  {
   "cell_type": "markdown",
   "metadata": {},
   "source": [
    "#### Arbitrary Keyword Arguments (**kwargs)\n",
    "In Python, you can define functions that accept a variable number of keyword arguments using the **kwargs syntax. This allows you to pass any number of keyword arguments to the function."
   ]
  },
  {
   "cell_type": "code",
   "execution_count": 7,
   "metadata": {},
   "outputs": [
    {
     "name": "stdout",
     "output_type": "stream",
     "text": [
      "{'age': 30, 'city': 'New York'}\n",
      "age: 30\n",
      "city: New York\n"
     ]
    }
   ],
   "source": [
    "def print_info(name, **kwargs):\n",
    "    print(kwargs)\n",
    "    for key, value in kwargs.items():\n",
    "        print(f\"{key}: {value}\")\n",
    "\n",
    "print_info(name=\"Alice\", age=30, city=\"New York\")"
   ]
  },
  {
   "cell_type": "markdown",
   "metadata": {},
   "source": [
    "#### Recursion\n",
    "Recursion is a programming technique where a function calls itself to solve a problem. It's commonly used for problems that can be broken down into smaller, similar subproblems."
   ]
  },
  {
   "cell_type": "code",
   "execution_count": 8,
   "metadata": {},
   "outputs": [
    {
     "name": "stdout",
     "output_type": "stream",
     "text": [
      "5\n",
      "4\n",
      "3\n",
      "2\n",
      "1\n",
      "120\n"
     ]
    }
   ],
   "source": [
    "def factorial(n):\n",
    "    print(n)\n",
    "    if n == 1:\n",
    "        return 1\n",
    "    else:\n",
    "        return n * factorial(n - 1)\n",
    "\n",
    "result = factorial(5)\n",
    "print(result)  # Output: 120"
   ]
  },
  {
   "cell_type": "markdown",
   "metadata": {},
   "source": [
    "#### Function Annotations\n",
    "Function annotations allow you to specify the types of function arguments and return values. While Python's runtime does not enforce these annotations, they serve as useful documentation and can be used by type-checking tools."
   ]
  },
  {
   "cell_type": "code",
   "execution_count": 9,
   "metadata": {},
   "outputs": [
    {
     "name": "stdout",
     "output_type": "stream",
     "text": [
      "8\n"
     ]
    }
   ],
   "source": [
    "def add(a: int, b: int) -> int:\n",
    "    \"\"\"This function adds two integers and returns the result.\"\"\"\n",
    "    \n",
    "    return a + b\n",
    "\n",
    "result = add(5, 3)\n",
    "print(result)  # Output: 8"
   ]
  },
  {
   "cell_type": "markdown",
   "metadata": {},
   "source": [
    "#### Closures\n",
    "In Python, closures are functions that capture and remember the environment in which they were created. They can access and manipulate variables from their containing scope even after that scope has finished executing."
   ]
  },
  {
   "cell_type": "code",
   "execution_count": 10,
   "metadata": {},
   "outputs": [
    {
     "name": "stdout",
     "output_type": "stream",
     "text": [
      "7 9\n"
     ]
    }
   ],
   "source": [
    "def outer_function(x):\n",
    "    def inner_function(y):\n",
    "        return x + y\n",
    "    return inner_function\n",
    "\n",
    "closure = outer_function(10)\n",
    "two_adder = outer_function(2)\n",
    "four_adder = outer_function(4)\n",
    "#result = closure(5)\n",
    "#print(result)  # Output: 15\n",
    "two_adder(6)\n",
    "\n",
    "print(two_adder(5), four_adder(5))"
   ]
  },
  {
   "cell_type": "markdown",
   "metadata": {},
   "source": [
    "#### First-Class Functions\n",
    "In Python, functions are first-class objects, which means you can pass them as arguments to other functions and return them from functions."
   ]
  },
  {
   "cell_type": "code",
   "execution_count": 11,
   "metadata": {},
   "outputs": [
    {
     "name": "stdout",
     "output_type": "stream",
     "text": [
      "25\n",
      "6\n"
     ]
    }
   ],
   "source": [
    "def square(x):\n",
    "    return x * x\n",
    "\n",
    "def increment(x):\n",
    "    return x + 1\n",
    "\n",
    "def apply(func, num):\n",
    "    x = num * 2\n",
    "    return func(x)\n",
    "\n",
    "x1 = apply(square, 5)\n",
    "print(x1)   # Output: 25\n",
    "x2 = apply(increment, 5)\n",
    "print(x2)   # Output: 6"
   ]
  },
  {
   "cell_type": "markdown",
   "metadata": {},
   "source": [
    "### Python Modules\n",
    "\n",
    "A module is a file containing Python code that defines functions, classes, and variables. Modules allow you to organize your code logically and promote code reusability. You can import modules in other Python scripts to use their functionality."
   ]
  },
  {
   "cell_type": "code",
   "execution_count": 15,
   "metadata": {},
   "outputs": [
    {
     "name": "stdout",
     "output_type": "stream",
     "text": [
      "5\n",
      "3.14\n"
     ]
    }
   ],
   "source": [
    "import math_utils\n",
    "\n",
    "print(math_utils.add(1,4))\n",
    "print(math_utils.pi)"
   ]
  },
  {
   "cell_type": "code",
   "execution_count": 14,
   "metadata": {},
   "outputs": [
    {
     "data": {
      "text/plain": [
       "6"
      ]
     },
     "execution_count": 14,
     "metadata": {},
     "output_type": "execute_result"
    }
   ],
   "source": [
    "from math_utils import add, sub\n",
    "\n",
    "add(2,4)"
   ]
  },
  {
   "cell_type": "code",
   "execution_count": 17,
   "metadata": {},
   "outputs": [
    {
     "name": "stdout",
     "output_type": "stream",
     "text": [
      "Playing game\n",
      "Playing level 3\n"
     ]
    }
   ],
   "source": [
    "from other_resources import my_module\n",
    "print(my_module.play_game())\n",
    "print(my_module.play_level(3))"
   ]
  },
  {
   "cell_type": "markdown",
   "metadata": {},
   "source": [
    "### Summary\n",
    "\n",
    "In this notebook, we have learned about functions in Python, including default parameters, variable scope, docstrings, arbitrary arguments, keyword arguments, recursion, function annotations, closures, and first-class functions. We have also covered Python modules and how to import them in other scripts."
   ]
  }
 ],
 "metadata": {
  "kernelspec": {
   "display_name": "Python 3",
   "language": "python",
   "name": "python3"
  },
  "language_info": {
   "codemirror_mode": {
    "name": "ipython",
    "version": 3
   },
   "file_extension": ".py",
   "mimetype": "text/x-python",
   "name": "python",
   "nbconvert_exporter": "python",
   "pygments_lexer": "ipython3",
   "version": "3.11.3"
  }
 },
 "nbformat": 4,
 "nbformat_minor": 2
}
