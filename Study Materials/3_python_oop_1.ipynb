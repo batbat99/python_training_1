{
 "cells": [
  {
   "cell_type": "markdown",
   "metadata": {},
   "source": [
    "<div style=\"display: flex; align-items: center;\">\n",
    "    <img src=\"../img/es_logo.png\" alt=\"title\" style=\"margin-right: 20px;\">\n",
    "    <h1>Object-Oriented Programming in Python</h1>\n",
    "</div>"
   ]
  },
  {
   "cell_type": "markdown",
   "metadata": {},
   "source": [
    "### Object-Oriented Programming (OOP) in Python\n",
    "Object-Oriented Programming (OOP) is a programming paradigm that uses \"objects\" to design applications and computer programs. It utilizes several techniques from previously established paradigms, including modularity, polymorphism, and encapsulation."
   ]
  },
  {
   "cell_type": "markdown",
   "metadata": {},
   "source": [
    "### Classes and Objects\n",
    "A class is a blueprint or template for creating objects, and an object is an instance of a class. Classes define attributes (data) and methods (functions) that the objects of the class will have.\n",
    "\n",
    "#### Creating a Class\n",
    "To create a class, use the `class` keyword followed by the class name and a colon. The class name should be in PascalCase. The class body contains the class attributes and methods.\n",
    "\n",
    "```python\n",
    "class <class_name>:\n",
    "    pass\n",
    "```\n",
    "\n",
    "#### Creating an Object\n",
    "To create an object, call the class name followed by parentheses. Assign the object to a variable.\n",
    "\n",
    "```python\n",
    "<variable_name> = <class_name>()\n",
    "```"
   ]
  },
  {
   "cell_type": "code",
   "execution_count": 2,
   "metadata": {},
   "outputs": [
    {
     "name": "stdout",
     "output_type": "stream",
     "text": [
      "Hello\n",
      "Buddy\n",
      "Woof!\n"
     ]
    }
   ],
   "source": [
    "# Define a class\n",
    "class Dog:\n",
    "    def __init__(self, name, breed, sound=\"Woof!\"):\n",
    "        self.name = name\n",
    "        self.breed = breed\n",
    "        self.sound = sound\n",
    "    \n",
    "    def bark(self):\n",
    "        return self.sound\n",
    "\n",
    "# Create objects (instances) of the class\n",
    "dog1 = Dog(\"Buddy\", \"Golden Retriever\", \"Hello\")\n",
    "print(dog1.bark())\n",
    "dog2 = Dog(\"Daisy\", \"Labrador\")\n",
    "\n",
    "# Access attributes and call methods\n",
    "print(dog1.name)       # Output: Buddy\n",
    "print(dog2.bark())     # Output: Woof!"
   ]
  },
  {
   "cell_type": "markdown",
   "metadata": {},
   "source": [
    "### Attributes and Methods\n",
    "Attributes are variables that store data for an object, while methods are functions that perform actions related to the object.\n",
    "\n",
    "#### Creating Attributes\n",
    "To create an attribute, define a variable inside the class body. You can assign a value to the attribute inside the class body or in the constructor method.\n",
    "\n",
    "> **Note:** Class attributes are shared among all instances of the class, while object attributes are specific to each instance.\n",
    "\n",
    "```python\n",
    "class <class_name>:\n",
    "    <class_attribute> = <value>\n",
    "    def __init__(self):\n",
    "        self.<object_attribute> = <value>\n",
    "```\n",
    "\n",
    "#### Creating Methods\n",
    "To create a method, define a function inside the class body. The first parameter of the method should be `self`, which is a reference to the current instance of the class. You can call the method using the dot notation.\n",
    "\n",
    "```python\n",
    "class <class_name>:\n",
    "    def <method_name>(self):\n",
    "        pass\n",
    "```\n",
    "\n",
    "#### Constructor Method\n",
    "The constructor method is a special method that is called when an object is created. The constructor method is named `__init__` and takes the `self` parameter and other parameters that you want to initialize the object with.\n",
    "\n",
    "```python\n",
    "class <class_name>:\n",
    "    def __init__(self, <parameter>):\n",
    "        self.<attribute> = <parameter>\n",
    "```"
   ]
  },
  {
   "cell_type": "code",
   "execution_count": 5,
   "metadata": {},
   "outputs": [
    {
     "name": "stdout",
     "output_type": "stream",
     "text": [
      "78.53975\n",
      "113.09724\n",
      "3.14159\n"
     ]
    }
   ],
   "source": [
    "class Circle:\n",
    "    def __init__(self, radius):\n",
    "        self.radius = radius\n",
    "    \n",
    "    def area(self):\n",
    "        return 3.14159 * self.radius ** 2\n",
    "\n",
    "circle1 = Circle(5)\n",
    "circle2 = Circle(6)\n",
    "print(circle1.area())   # Output: 78.53975\n",
    "print(circle2.area()) \n",
    "print(Circle(1).area())"
   ]
  },
  {
   "cell_type": "markdown",
   "metadata": {},
   "source": [
    "### Inheritance\n",
    "Inheritance allows you to create a new class (subclass or child class) that inherits properties and methods from an existing class (superclass or parent class). It promotes code reusability.\n",
    "\n",
    "#### Creating a Subclass\n",
    "To create a subclass, pass the parent class as a parameter to the subclass. The subclass inherits all the attributes and methods of the parent class.\n",
    "\n",
    "```python\n",
    "class <subclass_name>(<parent_class_name>):\n",
    "    pass\n",
    "```"
   ]
  },
  {
   "cell_type": "code",
   "execution_count": 13,
   "metadata": {},
   "outputs": [
    {
     "name": "stdout",
     "output_type": "stream",
     "text": [
      "Woof!\n",
      "Meow!\n",
      "Generic Animal Sound\n",
      "Buddy\n",
      "this is a dog instance, its name is Buddy it is 3 years old. this dog sounds like Woof!\n"
     ]
    }
   ],
   "source": [
    "class Animal:\n",
    "    def __init__(self, name):\n",
    "        self.name = name\n",
    "    \n",
    "    def speak(self):\n",
    "        return \"Generic Animal Sound\"\n",
    "    \n",
    "    def walk(self):\n",
    "        return \"Animal is walking\"\n",
    "\n",
    "class Dog(Animal):\n",
    "    \n",
    "    def __init__(self,name,age):\n",
    "        self.name = name\n",
    "        self.age = age \n",
    "\n",
    "    def speak(self):\n",
    "        return \"Woof!\"\n",
    "    \n",
    "    def __str__(self):\n",
    "        return f\"this is a dog instance, its name is {self.name} it is {self.age} years old. this dog sounds like {self.speak()}\"\n",
    "\n",
    "class Cat(Animal):\n",
    "    def speak(self):\n",
    "        return \"Meow!\"\n",
    "\n",
    "dog = Dog(\"Buddy\", 3)\n",
    "cat = Cat(\"Whiskers\")\n",
    "generic_animal = Animal(\"my_animal\")\n",
    "\n",
    "print(dog.speak())  # Output: Woof!\n",
    "print(cat.speak())  # Output: Meow!\n",
    "print(generic_animal.speak())\n",
    "print(dog.name)\n",
    "print(dog)"
   ]
  },
  {
   "cell_type": "markdown",
   "metadata": {},
   "source": [
    "An instance of a subclass is also an instance of the parent class.\n",
    "\n",
    "You can check if an object is an instance of a class using the `isinstance()` function.\n",
    "\n",
    "```python\n",
    "isinstance(<object>, <class_name>)\n",
    "```"
   ]
  },
  {
   "cell_type": "code",
   "execution_count": 11,
   "metadata": {},
   "outputs": [
    {
     "name": "stdout",
     "output_type": "stream",
     "text": [
      "True\n",
      "True\n",
      "False\n"
     ]
    }
   ],
   "source": [
    "print(isinstance(dog, Dog))  # Output: True\n",
    "print(isinstance(dog, Animal))  # Output: True\n",
    "print(isinstance(dog, Cat))  # Output: False"
   ]
  },
  {
   "cell_type": "code",
   "execution_count": 12,
   "metadata": {},
   "outputs": [
    {
     "name": "stdout",
     "output_type": "stream",
     "text": [
      "<__main__.Dog object at 0x000001E7B3C99F10>\n"
     ]
    }
   ],
   "source": [
    "print(dog)"
   ]
  },
  {
   "cell_type": "markdown",
   "metadata": {},
   "source": [
    "### Method Overriding\n",
    "Method overriding allows a subclass to provide a specific implementation of a method that is already provided by its parent class. This is useful when you want to change the behavior of a method in the subclass.\n",
    "\n",
    "```python\n",
    "class <superclass_name>:\n",
    "    def my_method(self):\n",
    "        print(\"Hello from the superclass\")\n",
    "\n",
    "class <subclass_name>(<superclass_name>):\n",
    "    def my_method(self):\n",
    "        print(\"Hello from the subclass\")\n",
    "```"
   ]
  },
  {
   "cell_type": "code",
   "execution_count": null,
   "metadata": {},
   "outputs": [],
   "source": [
    "class Animal:\n",
    "    def __init__(self, name):\n",
    "        self.name = name\n",
    "    \n",
    "    def speak(self):\n",
    "        print(\"Speaks in generic animal voice\")\n",
    "\n",
    "class Dog(Animal):\n",
    "    def speak(self):\n",
    "        print(\"Barks\")\n",
    "\n",
    "class Cat(Animal):\n",
    "    def speak(self):\n",
    "        print(\"Meows\")"
   ]
  },
  {
   "cell_type": "markdown",
   "metadata": {},
   "source": [
    "### Overriding default methods\n",
    "Python provides several default methods that you can override in your classes. These methods are called magic methods or dunder methods because they are enclosed in double underscores.\n",
    "\n",
    "#### `__str__` Method\n",
    "The `__str__` method returns a string representation of the object. You can override this method to return a custom string representation.\n",
    "\n",
    "```python\n",
    "class <class_name>:\n",
    "    def __str__(self):\n",
    "        return \"<custom_string>\"\n",
    "```\n",
    "\n",
    "#### `__add__` Method\n",
    "The `__add__` method allows you to define the behavior of the `+` operator for objects of the class.\n",
    "\n",
    "```python\n",
    "class <class_name>:\n",
    "    def __add__(self, other):\n",
    "        return self.<attribute> + other.<attribute>\n",
    "```\n",
    "\n",
    "similarly, you can override other default methods like `__eq__`, `__lt__`, `__gt__`, `__len__`, etc."
   ]
  },
  {
   "cell_type": "code",
   "execution_count": 16,
   "metadata": {},
   "outputs": [
    {
     "name": "stdout",
     "output_type": "stream",
     "text": [
      "Nemo & Bob\n",
      "5\n"
     ]
    }
   ],
   "source": [
    "class Fish(Animal):\n",
    "\n",
    "    def __init__(self, name, length):\n",
    "        self.name = name\n",
    "        self.length = length\n",
    "    \n",
    "    def speak(self):\n",
    "        print(\"Bubbles\")\n",
    "    \n",
    "    def __str__(self):\n",
    "        return \"I am a fish\"\n",
    "    \n",
    "    def __add__(self, other):\n",
    "        new_name = f\"{self.name} & {other.name}\"\n",
    "        return Fish(new_name, self.length + other.length)\n",
    "    \n",
    "    def __lt__(self, other):\n",
    "        return self.length < other.length\n",
    "    \n",
    "    def __eq__(self, other):\n",
    "        return self.length == other.length\n",
    "    \n",
    "    def __len__(self):\n",
    "        return self.length\n",
    "    \n",
    "fish_1 = Fish(\"Nemo\", 3)\n",
    "fish_2 = Fish(\"Bob\", 2)\n",
    "\n",
    "fusion = fish_1 + fish_2\n",
    "\n",
    "print(fusion.name)\n",
    "print(len(fusion))"
   ]
  },
  {
   "cell_type": "markdown",
   "metadata": {},
   "source": [
    "### Summary\n",
    "\n",
    "In this notebook, we have learned about Object-Oriented Programming (OOP) in Python. We have covered classes, objects, attributes, methods, inheritance, method overriding, and overriding default methods."
   ]
  }
 ],
 "metadata": {
  "kernelspec": {
   "display_name": "Python 3",
   "language": "python",
   "name": "python3"
  },
  "language_info": {
   "codemirror_mode": {
    "name": "ipython",
    "version": 3
   },
   "file_extension": ".py",
   "mimetype": "text/x-python",
   "name": "python",
   "nbconvert_exporter": "python",
   "pygments_lexer": "ipython3",
   "version": "3.11.3"
  }
 },
 "nbformat": 4,
 "nbformat_minor": 2
}
