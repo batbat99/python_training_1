{
 "cells": [
  {
   "cell_type": "markdown",
   "metadata": {},
   "source": [
    "<div style=\"display: flex; align-items: center;\">\n",
    "    <img src=\"../img/es_logo.png\" alt=\"title\" style=\"margin-right: 20px;\">\n",
    "    <h1>Congratulations on completing the Estarta Python Training</h1>\n",
    "</div>"
   ]
  },
  {
   "cell_type": "markdown",
   "metadata": {},
   "source": [
    "We hope you enjoyed the training and learned a lot. We are excited to see what you will do with your new skills.\n",
    "\n",
    "You have laid a solid foundation in Python, covering essential topics that will be incredibly valuable in various fields of software development."
   ]
  },
  {
   "cell_type": "markdown",
   "metadata": {},
   "source": [
    "### What's next?\n",
    "- Explore web development frameworks like Django and Flask, combine front-end technologies like HTML, CSS, and JavaScript with Python to build web applications\n",
    "- Learn how you can build APIs with Django Rest Framework or Flask Framework\n",
    "- Dive into data science and machine learning with Python libraries like NumPy, Pandas, Matplotlib, Scikit-learn, and TensorFlow\n",
    "- Learn how to build desktop applications with Python using libraries like Tkinter, PyQt, and Kivy\n",
    "- Explore automation and scripting with Python\n",
    "- Learn how to build simple games with Python using libraries like Pygame"
   ]
  }
 ],
 "metadata": {
  "language_info": {
   "name": "python"
  }
 },
 "nbformat": 4,
 "nbformat_minor": 2
}
