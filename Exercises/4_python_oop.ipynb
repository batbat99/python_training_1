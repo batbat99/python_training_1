{
 "cells": [
  {
   "cell_type": "markdown",
   "metadata": {},
   "source": [
    "<div style=\"display: flex; align-items: center;\">\n",
    "    <img src=\"../img/es_logo.png\" alt=\"title\" style=\"margin-right: 20px;\">\n",
    "    <h1>Introduction to Python</h1>\n",
    "</div>"
   ]
  },
  {
   "cell_type": "markdown",
   "metadata": {},
   "source": [
    "### Submission Instructions\n",
    "\n",
    "- Complete the excercises in the notebook below.\n",
    "- Once you have completed the notebook, you should submit the completed notebook and any additional files you created for the assignment by uploading them to your github profile and sharing the github link as the submission.\n",
    "- your github repostory should contain the required files as well as a README.md file that summarizes what you have learned in this module."
   ]
  },
  {
   "cell_type": "markdown",
   "metadata": {},
   "source": [
    "### Recommended Readings:\n",
    "- GeeckforGeeks: [Class methods vs Static methods in Python](https://www.geeksforgeeks.org/class-method-vs-static-method-python/)\n",
    "- GeeksforGeeks: [Encapsulation in Python](https://www.geeksforgeeks.org/encapsulation-in-python/)\n",
    "- Dive Into Python: [Abstract Classes](https://diveintopython.org/learn/classes/abstract-class)\n",
    "- Real Python: [Multiple Inheritance in Python](https://realpython.com/lessons/multiple-inheritance-python/)"
   ]
  },
  {
   "cell_type": "markdown",
   "metadata": {},
   "source": []
  },
  {
   "cell_type": "markdown",
   "metadata": {},
   "source": [
    "#### exercise 1:\n",
    "Create a class named `Car` with the following attributes:\n",
    "- class attribute `car_count` which counts the number of cars created.\n",
    "- instance attributes `color`, `brand`, `year`, and `price`.\n",
    "\n",
    "and the following methods:\n",
    "- a class method `get_car_count` that returns the number of cars created.\n",
    "- a static method `car_info` that returns some information about what a car is."
   ]
  },
  {
   "cell_type": "code",
   "execution_count": null,
   "metadata": {},
   "outputs": [],
   "source": [
    "class Car:\n",
    "    pass"
   ]
  },
  {
   "cell_type": "markdown",
   "metadata": {},
   "source": [
    "#### exercise 2:\n",
    "Create a class named `BankAccount` with the following attributes:\n",
    "- class attribute `interest_rate` that is shared among all instances of the class.\n",
    "- instance attributes `name`, `balance`.\n",
    "\n",
    "and the following methods:\n",
    "- a class method `set_interest_rate` that sets the interest rate.\n",
    "- a class method `get_interest_rate` that returns the interest rate.\n",
    "- a method `add_money` that adds a specific amount to the balance.\n",
    "- a method `withdraw_money` that withdraws a specific amount from the balance.\n",
    "- a method `get_account_balance` that returns the current balance of the account.\n",
    "- a method `calculate_annual_interest` that returns the annual interest on the account.\n",
    "> annual interest = balance * interest rate"
   ]
  },
  {
   "cell_type": "code",
   "execution_count": null,
   "metadata": {},
   "outputs": [],
   "source": [
    "class BankAccount:\n",
    "    interest_rate = 0.05\n",
    "\n",
    "    def __init__(self, balance=0):\n",
    "        self.balance = balance"
   ]
  },
  {
   "cell_type": "markdown",
   "metadata": {},
   "source": [
    "#### exercise 3:\n",
    "Create a class named `Person` with the following specifications:\n",
    "- private instance attributes `__name`, `__last_name`, `__age`.\n",
    "- create methods using `@property` decorator to return the values of the attributes.\n",
    "- create methods using `@<property_name>.setter` decorator to set the values of the attributes."
   ]
  },
  {
   "cell_type": "code",
   "execution_count": null,
   "metadata": {},
   "outputs": [],
   "source": [
    "class Person:\n",
    "    pass"
   ]
  },
  {
   "cell_type": "markdown",
   "metadata": {},
   "source": [
    "#### exercise 4:\n",
    "Create a class named `Employee` with the following attributes:\n",
    "- instance attributes `name`, `salary`.\n",
    "\n",
    "Create a class named `Manager` with the following attributes:\n",
    "- instance attribute `department`.\n",
    "\n",
    "Create a class Executive that inherits from both `Employee` and `Manager` classes and has the following attributes:\n",
    "- instance attributes `company_car`, `bonus`.\n",
    "- implement an appropriate `__str__` method to print the information about the executive."
   ]
  },
  {
   "cell_type": "code",
   "execution_count": null,
   "metadata": {},
   "outputs": [],
   "source": [
    "class Employee:\n",
    "    pass\n",
    "\n",
    "class Manager:\n",
    "    pass\n",
    "\n",
    "class Executive(Employee, Manager):\n",
    "    pass"
   ]
  },
  {
   "cell_type": "markdown",
   "metadata": {},
   "source": [
    "#### exercise 5:\n",
    "Using method chaining, create a class `Person` with the following attributes:\n",
    "- instance attributes `name`, `age`.\n",
    "\n",
    "and the following methods:\n",
    "- a method `set_name` that sets the name of the person and returns the instance.\n",
    "- a method `set_age` that sets the age of the person and returns the instance.\n",
    "- a method `get_person_info` that returns the information about the person."
   ]
  },
  {
   "cell_type": "code",
   "execution_count": null,
   "metadata": {},
   "outputs": [],
   "source": [
    "class Person:\n",
    "    def __init__(self, name, age):\n",
    "        self.name = name\n",
    "        self.age = age\n",
    "    \n",
    "    # Your code here"
   ]
  }
 ],
 "metadata": {
  "kernelspec": {
   "display_name": "Python 3",
   "language": "python",
   "name": "python3"
  },
  "language_info": {
   "codemirror_mode": {
    "name": "ipython",
    "version": 3
   },
   "file_extension": ".py",
   "mimetype": "text/x-python",
   "name": "python",
   "nbconvert_exporter": "python",
   "pygments_lexer": "ipython3",
   "version": "3.11.3"
  }
 },
 "nbformat": 4,
 "nbformat_minor": 2
}
