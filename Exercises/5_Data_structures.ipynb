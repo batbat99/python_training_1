{
 "cells": [
  {
   "cell_type": "markdown",
   "metadata": {},
   "source": [
    "<div style=\"display: flex; align-items: center;\">\n",
    "    <img src=\"../img/es_logo.png\" alt=\"title\" style=\"margin-right: 20px;\">\n",
    "    <h1>Data Structures</h1>\n",
    "</div>"
   ]
  },
  {
   "cell_type": "markdown",
   "metadata": {},
   "source": [
    "### Submission Instructions\n",
    "\n",
    "- Complete the excercises in the notebook below.\n",
    "- Once you have completed the notebook, you should submit the completed notebook and any additional files you created for the assignment by uploading them to your github profile and sharing the github link as the submission.\n",
    "- your github repostory should contain the required files as well as a README.md file that summarizes what you have learned in this module."
   ]
  },
  {
   "cell_type": "markdown",
   "metadata": {},
   "source": [
    "### Recommended Readings:\n",
    "- GeeckforGeeks: [Linked List Data Structure](https://www.geeksforgeeks.org/data-structures/linked-list/)\n",
    "- GeeckforGeeks: [Stack Data Structure](https://www.geeksforgeeks.org/stack-data-structure/)\n",
    "- GeeckforGeeks: [Queue Data Structure](https://www.geeksforgeeks.org/queue-data-structure/)\n",
    "- GeeckforGeeks: [Binary Search Tree Data Structure](https://www.geeksforgeeks.org/binary-search-tree-in-python/)\n",
    "- GeeckforGeeks: [Binary Search Tree Traversal](https://www.geeksforgeeks.org/binary-search-tree-traversal-inorder-preorder-post-order/)\n"
   ]
  },
  {
   "cell_type": "markdown",
   "metadata": {},
   "source": [
    "#### Exercise 1:\n",
    "For the linked list implementation provided in the notebook, implement a `has_cycle` method that returns `True` if a cycle is present in a linked list, otherwise `False`.\n",
    "\n",
    "you will need to use two pointers to solve this problem. Initialize both `p1` and `p2` to the head of the linked list, then move `p1` by one and `p2` by two. If the linked list has a cycle, then `p1` and `p2` will be equal at some point. If no cycle is present, then `p2` will reach the end of the linked list."
   ]
  },
  {
   "cell_type": "code",
   "execution_count": null,
   "metadata": {},
   "outputs": [],
   "source": [
    "# Your code here"
   ]
  },
  {
   "cell_type": "markdown",
   "metadata": {},
   "source": [
    "#### Exercise 2:\n",
    "Implement the following methods for the doubly linked list:\n",
    "* `prepend(value)`: Add a node to the beginning of the list.\n",
    "* `delete(value)`: Delete the first node with the specified value.\n",
    "* `reverse()`: Reverse the list in-place."
   ]
  },
  {
   "cell_type": "code",
   "execution_count": null,
   "metadata": {},
   "outputs": [],
   "source": [
    "# Your code here"
   ]
  },
  {
   "cell_type": "markdown",
   "metadata": {},
   "source": [
    "#### Exercise 3:\n",
    "Implement the `postorder_traversal` method for the binary tree implementation provided in the notebook. The method should return a list of node values resulting from a postorder traversal."
   ]
  },
  {
   "cell_type": "code",
   "execution_count": null,
   "metadata": {},
   "outputs": [],
   "source": [
    "# Your code here"
   ]
  }
 ],
 "metadata": {
  "kernelspec": {
   "display_name": "Python 3",
   "language": "python",
   "name": "python3"
  },
  "language_info": {
   "codemirror_mode": {
    "name": "ipython",
    "version": 3
   },
   "file_extension": ".py",
   "mimetype": "text/x-python",
   "name": "python",
   "nbconvert_exporter": "python",
   "pygments_lexer": "ipython3",
   "version": "3.11.3"
  }
 },
 "nbformat": 4,
 "nbformat_minor": 2
}
