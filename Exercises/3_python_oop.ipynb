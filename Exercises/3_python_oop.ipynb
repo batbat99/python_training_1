{
 "cells": [
  {
   "cell_type": "markdown",
   "metadata": {},
   "source": [
    "<div style=\"display: flex; align-items: center;\">\n",
    "    <img src=\"../img/es_logo.png\" alt=\"title\" style=\"margin-right: 20px;\">\n",
    "    <h1>Introduction to Python</h1>\n",
    "</div>"
   ]
  },
  {
   "cell_type": "markdown",
   "metadata": {},
   "source": [
    "### Submission Instructions\n",
    "\n",
    "- Complete the excercises in the notebook below.\n",
    "- Once you have completed the notebook, you should submit the completed notebook and any additional files you created for the assignment by uploading them to your github profile and sharing the github link as the submission.\n",
    "- your github repostory should contain the required files as well as a README.md file that summarizes what you have learned in this module."
   ]
  },
  {
   "cell_type": "markdown",
   "metadata": {},
   "source": [
    "### Recommended Readings:\n",
    "- W3Schools Python: [Classes and Objects](https://www.w3schools.com/python/python_classes.asp)\n",
    "- Real Python: [Object-Oriented Programming (OOP) in Python 3](https://realpython.com/python3-object-oriented-programming/)\n",
    "- Python Docs: [Classes](https://docs.python.org/3/tutorial/classes.html)\n",
    "- Geeks for Geeks: [Python Classes and Objects](https://www.geeksforgeeks.org/python-classes-and-objects/)"
   ]
  },
  {
   "cell_type": "markdown",
   "metadata": {},
   "source": [
    "#### Exercise 1\n",
    "create a class called `Point` that takes two parameters `x` and `y` and stores them as attributes. Then create a method called `distance` that takes another `Point` object and calculates the distance between the two points.\n",
    "\n",
    "Create an appropriate `__str__` method for the class."
   ]
  },
  {
   "cell_type": "code",
   "execution_count": 1,
   "metadata": {},
   "outputs": [
    {
     "name": "stdout",
     "output_type": "stream",
     "text": [
      "(1,1)\n",
      "1.0\n"
     ]
    }
   ],
   "source": [
    "class Point:\n",
    "    def __init__(self, x, y):\n",
    "        self.x = x\n",
    "        self.y = y\n",
    "\n",
    "    def distance(self, other):\n",
    "        return ((other.x-self.x)**2 + (other.y-self.y)**2)**0.5\n",
    "    \n",
    "    def __str__(self):\n",
    "        return f\"({self.x},{self.y})\"\n",
    "    \n",
    "p1 = Point(1,1)\n",
    "print(p1)\n",
    "\n",
    "p2 = Point(2,1)\n",
    "print(p1.distance(p2))"
   ]
  },
  {
   "cell_type": "markdown",
   "metadata": {},
   "source": [
    "#### Exercise 2\n",
    "- create a class called `Line` that takes two parameters `point1` and `point2` and stores them as attributes. Then create a method called `length` that calculates the length of the line.\n",
    "- the `Line` class should also have a method called `slope` that calculates the slope of the line.\n",
    "- create a method called `point_on_line` that takes a `Point` object and returns `True` if the point is on the line and `False` otherwise.\n",
    "\n",
    "Create an appropriate `__str__` method for the class."
   ]
  },
  {
   "cell_type": "code",
   "execution_count": 5,
   "metadata": {},
   "outputs": [
    {
     "name": "stdout",
     "output_type": "stream",
     "text": [
      "A Line from Point (1,1) to Point (2,1)\n",
      "1.0\n",
      "0.0\n",
      "True\n",
      "False\n"
     ]
    }
   ],
   "source": [
    "import math\n",
    "class Line:\n",
    "    def __init__(self, point1, point2):\n",
    "        self.point1 = point1\n",
    "        self.point2 = point2\n",
    "\n",
    "    def length(self):\n",
    "        return self.point1.distance(self.point2)\n",
    "    \n",
    "    def slope(self):\n",
    "        if self.point1.x == self.point2.x:\n",
    "            return None\n",
    "        \n",
    "        return (self.point2.y - self.point1.y) / (self.point2.x - self.point1.x)\n",
    "    \n",
    "    def point_on_line(self, point):\n",
    "        distances = self.point1.distance(point) + self.point2.distance(point)\n",
    "        if math.isclose(distances, self.length()):\n",
    "            return True\n",
    "        else:\n",
    "            return False\n",
    "    \n",
    "    def __str__(self):\n",
    "        return f\"A Line from Point {self.point1} to Point {self.point2}\"\n",
    "\n",
    "\n",
    "p1 = Point(1,1)\n",
    "p2 = Point(2,1)\n",
    "\n",
    "l1 = Line(p1, p2)\n",
    "print(l1)\n",
    "print(l1.length())\n",
    "print(l1.slope())\n",
    "\n",
    "p3 = Point(1.5,1)\n",
    "p4 = Point(2,2)\n",
    "\n",
    "print(l1.point_on_line(p3))\n",
    "print(l1.point_on_line(p4))\n"
   ]
  },
  {
   "cell_type": "markdown",
   "metadata": {},
   "source": [
    "#### Exercise 3\n",
    "- create a class called `Shape` that takes a list of `Lines` and stores them as an attribute. Then create a method called `perimeter` that calculates the perimeter of the shape.\n",
    "- the `Shape` class should have a method called `draw` that draws the shape using `matplotlib`. use the function `draw_lines` below to draw the lines.\n",
    "- create a method called `point_on_perimeter` that takes a `Point` object and returns `True` if the point is on the perimeter of the shape and `False` otherwise.\n",
    "\n",
    "Create an appropriate `__str__` method for the class."
   ]
  },
  {
   "cell_type": "code",
   "execution_count": 6,
   "metadata": {},
   "outputs": [],
   "source": [
    "import matplotlib.pyplot as plt\n",
    "def draw_lines(lines, color=\"red\"):\n",
    "    for line in lines:\n",
    "        plt.plot([line.point1.x, line.point2.x], [line.point1.y, line.point2.y], color)\n",
    "    \n",
    "    plt.axis('equal')\n",
    "    plt.show()"
   ]
  },
  {
   "cell_type": "code",
   "execution_count": 9,
   "metadata": {},
   "outputs": [
    {
     "name": "stdout",
     "output_type": "stream",
     "text": [
      "A shape of 3 sides\n"
     ]
    },
    {
     "data": {
      "image/png": "[encoded data removed]",
      "text/plain": [
       "<Figure size 640x480 with 1 Axes>"
      ]
     },
     "metadata": {},
     "output_type": "display_data"
    },
    {
     "name": "stdout",
     "output_type": "stream",
     "text": [
      "8.537319187990756\n"
     ]
    }
   ],
   "source": [
    "class Shape:\n",
    "    def __init__(self, lines):\n",
    "        self.lines = lines\n",
    "\n",
    "    def perimeter(self):\n",
    "        p = 0\n",
    "        for line in self.lines:\n",
    "            p += line.length()\n",
    "        \n",
    "        return p\n",
    "    \n",
    "    def draw(self):\n",
    "        draw_lines(self.lines)\n",
    "    \n",
    "    def point_on_perimeter(self, point):\n",
    "        for line in self.lines:\n",
    "            if line.point_on_line(point):\n",
    "                return True\n",
    "        \n",
    "        return False\n",
    "    \n",
    "    def __str__(self):\n",
    "        return f\"A shape of {len(self.lines)} sides\"\n",
    "    \n",
    "p1 = Point(1,1)\n",
    "p2 = Point(4,1)\n",
    "p3 = Point(5,2)\n",
    "lines = [Line(p1,p2), Line(p2,p3), Line(p1,p3)]\n",
    "s1 = Shape(lines)\n",
    "print(s1)\n",
    "s1.draw()\n",
    "print(s1.perimeter())"
   ]
  },
  {
   "cell_type": "markdown",
   "metadata": {},
   "source": [
    "create the following classes:\n",
    "- `Rectangle` that inherits from `Shape` and takes three parameters `width` and `height` and a Point object `center`. The lines of the rectangle should be calculated using the `width`, `height` and `center` parameters. Then create a method called `area` that calculates the area of the rectangle.\n",
    "- `Square` that inherits from `Rectangle` and takes two parameter `side` and `center` and stores it as an attribute.\n",
    "- `Circle` that inherits from `Shape` and takes 3 parameters `radius` and `center` and an optional `num_sides` with a default value of 20. The lines of the circle should be calculated using the `radius`, `center` and `num_sides` parameters. Then create a method called `area` that calculates the area of the circle.\n",
    "- for the `Circle` class, override the `perimeter` and `point_on_perimeter` methods to work with circles (it should find if point on perimeter in the logical sense rather than the visual representatiobn that uses lines).\n",
    "\n",
    "Create an appropriate `__str__` method for each one of the classes."
   ]
  },
  {
   "cell_type": "code",
   "execution_count": 13,
   "metadata": {},
   "outputs": [
    {
     "data": {
      "image/png": "[encoded data removed]",
      "text/plain": [
       "<Figure size 640x480 with 1 Axes>"
      ]
     },
     "metadata": {},
     "output_type": "display_data"
    },
    {
     "data": {
      "image/png": "[encoded data removed]",
      "text/plain": [
       "<Figure size 640x480 with 1 Axes>"
      ]
     },
     "metadata": {},
     "output_type": "display_data"
    },
    {
     "data": {
      "image/png": "[encoded data removed]",
      "text/plain": [
       "<Figure size 640x480 with 1 Axes>"
      ]
     },
     "metadata": {},
     "output_type": "display_data"
    },
    {
     "name": "stdout",
     "output_type": "stream",
     "text": [
      "18.84955592153876\n",
      "28.274333882308138\n"
     ]
    }
   ],
   "source": [
    "import math\n",
    "\n",
    "class Rectangle(Shape):\n",
    "    def __init__(self, width, height, center):\n",
    "        self.width = width\n",
    "        self.height = height\n",
    "        self.center = center\n",
    "        half_width = width/2\n",
    "        half_height = height/2\n",
    "        p1 = Point(center.x-half_width, center.y-half_height)\n",
    "        p2 = Point(center.x+half_width, center.y-half_height)\n",
    "        p3 = Point(center.x+half_width, center.y+half_height)\n",
    "        p4 = Point(center.x-half_width, center.y+half_height)\n",
    "\n",
    "        self.lines = [Line(p1,p2), Line(p2,p3), Line(p3,p4), Line(p4,p1)]\n",
    "    \n",
    "    def area(self):\n",
    "        return self.width * self.height\n",
    "\n",
    "r = Rectangle(2,3,Point(1,1))\n",
    "r.draw()\n",
    "\n",
    "class Square(Rectangle):\n",
    "    def __init__(self, side, center):\n",
    "        width = side\n",
    "        height = side\n",
    "        super().__init__(width, height, center)\n",
    "\n",
    "square_1 = Square(2, Point(0,0))\n",
    "square_1.draw()\n",
    "\n",
    "class Circle(Shape):\n",
    "    def __init__(self, radius, center, num_sides=20):\n",
    "        self.radius = radius\n",
    "        self.center = center\n",
    "        self.num_sides = num_sides\n",
    "        self.lines = self.get_lines()\n",
    "\n",
    "    def get_lines(self):\n",
    "\n",
    "        lines = []\n",
    "        for i in range(self.num_sides):\n",
    "            angle_1 = i * 2 * math.pi/self.num_sides\n",
    "            angle_2 = (i+1) * 2 * math.pi/self.num_sides\n",
    "\n",
    "            x_1 = self.center.x + math.cos(angle_1) * self.radius\n",
    "            y_1 = self.center.y + math.sin(angle_1) * self.radius\n",
    "            point_1 = Point(x_1, y_1)\n",
    "\n",
    "            x_2 = self.center.x + math.cos(angle_2) * self.radius\n",
    "            y_2 = self.center.y + math.sin(angle_2) * self.radius\n",
    "            point_2 = Point(x_2, y_2)\n",
    "\n",
    "            lines.append(Line(point_1, point_2))\n",
    "\n",
    "        return lines\n",
    "    \n",
    "    def area(self):\n",
    "        return self.radius ** 2 * math.pi\n",
    "    \n",
    "    def perimeter(self):\n",
    "        return 2 * self.radius * math.pi\n",
    "    \n",
    "    def point_on_perimeter(self, point):\n",
    "        if self.radius == self.center.distance(point):\n",
    "            return True\n",
    "        else:\n",
    "            return False\n",
    "\n",
    "\n",
    "c1 = Circle(3, Point(0,0))\n",
    "c1.draw()\n",
    "print(c1.perimeter())\n",
    "print(c1.area())"
   ]
  },
  {
   "cell_type": "markdown",
   "metadata": {},
   "source": [
    "#### Exercise 4\n",
    "Create a program that simulates a simple employee management system. The program should allow the user to perform the following tasks:\n",
    "- add a new employee either a Manager or a Developer to the company.\n",
    "- display the list of employees in the company, along with their details.\n",
    "- calculate the total salary of all employees in the company.\n",
    "\n",
    "Create the following classes:\n",
    "- `Employee` class that takes three parameters `name`, `age` and `salary` and stores them as attributes. \n",
    "- `Manager` class that inherits from `Employee` and takes an additional parameter `department` and stores it as an attribute.\n",
    "- `Developer` class that inherits from `Employee` and takes an additional parameter `programming_language` and stores it as an attribute.\n",
    "\n",
    "Create a class called `Company` with the following methods:\n",
    "- `add_employee` that takes an `Employee` object and adds it to the list of employees.\n",
    "- `display_employees` that displays the list of employees in the company.\n",
    "- `calculate_total_salary` that calculates the total salary of all employees in the company.\n",
    "\n",
    "Use user input to allow the user to perform the above tasks.\n",
    "\n",
    "##### Example Output\n",
    "```console\n",
    "Welcome to Estarta Solutions Employee Management System\n",
    "\n",
    "What task would you like to perform?\n",
    "1. Add a new employee\n",
    "2. Display employees\n",
    "3. Calculate total salary\n",
    "4. Exit\n",
    "\n",
    "Enter your choice: 1\n",
    "\n",
    "Enter employee type (Manager/Developer): Manager\n",
    "Enter employee name: Ali\n",
    "Enter employee age: 35\n",
    "Enter employee salary: 5000\n",
    "Enter employee department: IT\n",
    "\n",
    "Employee added successfully!\n",
    "\n",
    "What task would you like to perform?\n",
    "1. Add a new employee\n",
    "2. Display employees\n",
    "3. Calculate total salary\n",
    "4. Exit\n",
    "\n",
    "Enter your choice: 1\n",
    "\n",
    "Enter employee type (Manager/Developer): Developer\n",
    "Enter employee name: Sara\n",
    "Enter employee age: 28\n",
    "Enter employee salary: 4000\n",
    "Enter employee programming language: Python\n",
    "\n",
    "Employee added successfully!\n",
    "\n",
    "What task would you like to perform?\n",
    "1. Add a new employee\n",
    "2. Display employees\n",
    "3. Calculate total salary\n",
    "4. Exit\n",
    "\n",
    "Enter your choice: 2\n",
    "\n",
    "Ali, a 35 year old Manager in the IT department with a salary of 5000\n",
    "Sara, a 28 year old Developer in Python with a salary of 4000\n",
    "\n",
    "What task would you like to perform?\n",
    "1. Add a new employee\n",
    "2. Display employees\n",
    "3. Calculate total salary\n",
    "4. Exit\n",
    "\n",
    "Enter your choice: 3\n",
    "\n",
    "Total salary of all employees is 9000\n",
    "\n",
    "What task would you like to perform?\n",
    "1. Add a new employee\n",
    "2. Display employees\n",
    "3. Calculate total salary\n",
    "4. Exit\n",
    "\n",
    "Enter your choice: 4\n",
    "\n",
    "Thank you for using Estarta Solutions Employee Management System.\n",
    "Goodbye!\n",
    "```"
   ]
  },
  {
   "cell_type": "markdown",
   "metadata": {},
   "source": []
  }
 ],
 "metadata": {
  "kernelspec": {
   "display_name": "Python 3",
   "language": "python",
   "name": "python3"
  },
  "language_info": {
   "name": "python",
   "version": "3.11.3"
  }
 },
 "nbformat": 4,
 "nbformat_minor": 2
}
