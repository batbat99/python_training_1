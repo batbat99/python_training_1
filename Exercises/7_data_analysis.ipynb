{
 "cells": [
  {
   "cell_type": "markdown",
   "metadata": {},
   "source": [
    "<div style=\"display: flex; align-items: center;\">\n",
    "    <img src=\"../img/es_logo.png\" alt=\"title\" style=\"margin-right: 20px;\">\n",
    "    <h1>Data Analysis Using Python</h1>\n",
    "</div>"
   ]
  },
  {
   "cell_type": "markdown",
   "metadata": {},
   "source": [
    "### Submission Instructions\n",
    "\n",
    "- Complete the excercises in the notebook below.\n",
    "- Once you have completed the notebook, you should submit the completed notebook and any additional files you created for the assignment by uploading them to your github profile and sharing the github link as the submission.\n",
    "- your github repostory should contain the required files as well as a README.md file that summarizes what you have learned in this module."
   ]
  },
  {
   "cell_type": "markdown",
   "metadata": {},
   "source": [
    "### Recommended Readings:\n",
    "- Pandas : [User Guide](https://pandas.pydata.org/docs/user_guide/index.html#user-guide)\n",
    "- Concat, Merge and Join: [Documentation](https://pandas.pydata.org/docs/user_guide/merging.html)"
   ]
  },
  {
   "cell_type": "markdown",
   "metadata": {},
   "source": [
    "Download the following dataset from kaggel: [Employee Salaries Analysis](https://www.kaggle.com/datasets/sahirmaharajj/employee-salaries-analysis)\n",
    "\n",
    "Using pandas find the following:\n",
    "1. The average salary of all employees\n",
    "2. The Department with the highest average salary\n",
    "3. The average salary of employees based on gender"
   ]
  },
  {
   "cell_type": "code",
   "execution_count": null,
   "metadata": {},
   "outputs": [],
   "source": [
    "# your code here"
   ]
  }
 ],
 "metadata": {
  "kernelspec": {
   "display_name": "Python 3",
   "language": "python",
   "name": "python3"
  },
  "language_info": {
   "name": "python",
   "version": "3.11.3"
  }
 },
 "nbformat": 4,
 "nbformat_minor": 2
}
